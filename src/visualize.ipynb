{
 "cells": [
  {
   "cell_type": "code",
   "execution_count": 2,
   "id": "835293e4",
   "metadata": {},
   "outputs": [],
   "source": [
    "import pandas as pd\n",
    "import matplotlib.pyplot as plt\n",
    "\n",
    "data = {\n",
    "    \"nom_produit\": [\"Laptop\", \"Smartphone\", \"Clavier\", \"Souris\", \"Ecran\"],\n",
    "    \"quantite\": [10, 25, 40, 35, 12]\n",
    "}\n",
    "df = pd.DataFrame(data)  \n",
    "\n",
    "\n"
   ]
  },
  {
   "cell_type": "code",
   "execution_count": 3,
   "id": "2c6888dd",
   "metadata": {},
   "outputs": [],
   "source": [
    "def plot_quantite_par_produit(dataframe):\n",
    "    plt.figure(figsize=(8, 5))\n",
    "    plt.bar(dataframe['nom_produit'], dataframe['quantite'], color='yellow')\n",
    "    plt.xlabel(\"Produits\")\n",
    "    plt.ylabel(\"Quantité\")\n",
    "    plt.title(\"Quantité par produit\")\n",
    "    plt.show()\n"
   ]
  }
 ],
 "metadata": {
  "kernelspec": {
   "display_name": "venv",
   "language": "python",
   "name": "python3"
  },
  "language_info": {
   "codemirror_mode": {
    "name": "ipython",
    "version": 3
   },
   "file_extension": ".py",
   "mimetype": "text/x-python",
   "name": "python",
   "nbconvert_exporter": "python",
   "pygments_lexer": "ipython3",
   "version": "3.10.0"
  }
 },
 "nbformat": 4,
 "nbformat_minor": 5
}
