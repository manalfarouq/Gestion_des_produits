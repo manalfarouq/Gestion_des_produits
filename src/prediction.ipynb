{
 "cells": [
  {
   "cell_type": "code",
   "execution_count": 25,
   "id": "a01ecc3e",
   "metadata": {},
   "outputs": [
    {
     "name": "stdout",
     "output_type": "stream",
     "text": [
      "            nom_produit quantite prix_unitaire  quantity*price_unit\n",
      "0                Laptop       10         800.0               8000.0\n",
      "1            Smartphone       25         500.0              12500.0\n",
      "2               Clavier       40          20.0                800.0\n",
      "3                Souris       35          15.0                525.0\n",
      "4                 Ecran       12         150.0               1800.0\n",
      "5            Imprimante        8         120.0                960.0\n",
      "6          Casque Audio       20          60.0               1200.0\n",
      "7             USB Drive       50          10.0                500.0\n",
      "8              Tablette       18         300.0               5400.0\n",
      "9    Disque Dur Externe       22          90.0               1980.0\n",
      "10                  SSD       15         110.0               1650.0\n",
      "11      Carte Graphique        7         400.0               2800.0\n",
      "12      Alimentation PC        9          75.0                675.0\n",
      "13           Boîtier PC        6          95.0                570.0\n",
      "14             Clé HDMI       30          12.0                360.0\n",
      "15         Câble Réseau       45           8.0                360.0\n",
      "16         Routeur WiFi       14          70.0                980.0\n",
      "17        Switch Réseau       11          55.0                605.0\n",
      "18               Webcam       17          45.0                765.0\n",
      "19       Microphone USB       13          85.0               1105.0\n",
      "20     Batterie Externe       27          25.0                675.0\n",
      "21           Projecteur        5         450.0               2250.0\n",
      "22          Serveur NAS        4         600.0               2400.0\n",
      "23           Carte Mère        8         220.0               1760.0\n",
      "24           Processeur       10         280.0               2800.0\n",
      "25              RAM 8GB       20          40.0                800.0\n",
      "26             RAM 16GB       12          70.0                840.0\n",
      "27       Ventilateur PC       25          18.0                450.0\n",
      "28    Station d’Accueil        7         130.0                910.0\n",
      "29              Scanner        6         200.0               1200.0\n",
      "30        Chaise Gaming        9         180.0               1620.0\n",
      "31  Bureau Informatique        4         320.0               1280.0\n",
      "32            Carte Son        8          95.0                760.0\n",
      "33       Disque Blu-ray       14          25.0                350.0\n",
      "34   Logiciel Antivirus       30          15.0                450.0\n",
      "35               Laptop       10         800.0               8000.0\n",
      "36           Smartphone      NaN         500.0                  NaN\n",
      "37              Clavier       40          20.0                800.0\n",
      "38               Souris       35           NaN                  NaN\n",
      "39                Ecran       12         150.0               1800.0\n",
      "40           Imprimante       -5         120.0               -600.0\n",
      "41         Casque Audio       20         sixty                  NaN\n",
      "42            USB Drive       50          10.0                500.0\n",
      "43             Tablette       18         300.0               5400.0\n",
      "44   Disque Dur Externe       22          90.0               1980.0\n",
      "45                  SSD       15           NaN                  NaN\n",
      "46      Carte Graphique     sept         400.0                  NaN\n",
      "47      Alimentation PC        9          75.0                675.0\n",
      "48           Boîtier PC      NaN          95.0                  NaN\n",
      "49             Clé HDMI       30          12.0                360.0\n"
     ]
    }
   ],
   "source": [
    "import pandas as pd\n",
    "\n",
    "df = pd.read_csv(\"../data/Products.csv\")\n",
    "\n",
    "\n",
    "print(df)"
   ]
  },
  {
   "cell_type": "code",
   "execution_count": null,
   "id": "149a1900",
   "metadata": {},
   "outputs": [
    {
     "name": "stdout",
     "output_type": "stream",
     "text": [
      "   quantite prix_unitaire\n",
      "0        10         800.0\n",
      "1        25         500.0\n",
      "2        40          20.0\n",
      "3        35          15.0\n",
      "4        12         150.0\n",
      "5         8         120.0\n",
      "6        20          60.0\n",
      "7        50          10.0\n",
      "8        18         300.0\n",
      "9        22          90.0\n",
      "10       15         110.0\n",
      "11        7         400.0\n",
      "12        9          75.0\n",
      "13        6          95.0\n",
      "14       30          12.0\n",
      "15       45           8.0\n",
      "16       14          70.0\n",
      "17       11          55.0\n",
      "18       17          45.0\n",
      "19       13          85.0\n",
      "20       27          25.0\n",
      "21        5         450.0\n",
      "22        4         600.0\n",
      "23        8         220.0\n",
      "24       10         280.0\n",
      "25       20          40.0\n",
      "26       12          70.0\n",
      "27       25          18.0\n",
      "28        7         130.0\n",
      "29        6         200.0\n",
      "30        9         180.0\n",
      "31        4         320.0\n",
      "32        8          95.0\n",
      "33       14          25.0\n",
      "34       30          15.0\n",
      "35       10         800.0\n",
      "36      NaN         500.0\n",
      "37       40          20.0\n",
      "38       35           NaN\n",
      "39       12         150.0\n",
      "40       -5         120.0\n",
      "41       20         sixty\n",
      "42       50          10.0\n",
      "43       18         300.0\n",
      "44       22          90.0\n",
      "45       15           NaN\n",
      "46     sept         400.0\n",
      "47        9          75.0\n",
      "48      NaN          95.0\n",
      "49       30          12.0\n"
     ]
    }
   ],
   "source": [
    "X = df[[\"quantite\" , \"prix_unitaire\"]]   \n",
    "y = df[\"quantity*price_unit\"]                    \n",
    "\n",
    "\n",
    "print(X)\n",
    "\n",
    "\n"
   ]
  },
  {
   "cell_type": "code",
   "execution_count": 34,
   "id": "80234a6e",
   "metadata": {},
   "outputs": [
    {
     "ename": "ModuleNotFoundError",
     "evalue": "No module named 'sklearn'",
     "output_type": "error",
     "traceback": [
      "\u001b[1;31m---------------------------------------------------------------------------\u001b[0m",
      "\u001b[1;31mModuleNotFoundError\u001b[0m                       Traceback (most recent call last)",
      "Cell \u001b[1;32mIn[34], line 1\u001b[0m\n\u001b[1;32m----> 1\u001b[0m \u001b[38;5;28;01mfrom\u001b[39;00m\u001b[38;5;250m \u001b[39m\u001b[38;5;21;01msklearn\u001b[39;00m\u001b[38;5;21;01m.\u001b[39;00m\u001b[38;5;21;01mlinear_model\u001b[39;00m\u001b[38;5;250m \u001b[39m\u001b[38;5;28;01mimport\u001b[39;00m LinearRegression\n\u001b[0;32m      3\u001b[0m X_train, X_test, y_train, y_test \u001b[38;5;241m=\u001b[39m train_test_split(\n\u001b[0;32m      4\u001b[0m     X, y, test_size\u001b[38;5;241m=\u001b[39m\u001b[38;5;241m0.2\u001b[39m, random_state\u001b[38;5;241m=\u001b[39m\u001b[38;5;241m42\u001b[39m\n\u001b[0;32m      5\u001b[0m )\n\u001b[0;32m      7\u001b[0m \u001b[38;5;28mprint\u001b[39m(\u001b[38;5;124m\"\u001b[39m\u001b[38;5;124mX_train:\u001b[39m\u001b[38;5;130;01m\\n\u001b[39;00m\u001b[38;5;124m\"\u001b[39m, X_train)\n",
      "\u001b[1;31mModuleNotFoundError\u001b[0m: No module named 'sklearn'"
     ]
    }
   ],
   "source": [
    "from sklearn.linear_model import LinearRegression\n",
    "\n",
    "X_train, X_test, y_train, y_test = train_test_split(\n",
    "    X, y, test_size=0.2, random_state=42\n",
    ")\n",
    "\n",
    "print(\"X_train:\\n\", X_train)\n",
    "print(\"X_test:\\n\", X_test)\n",
    "print(\"y_train:\\n\", y_train)\n",
    "print(\"y_test:\\n\", y_test)\n"
   ]
  },
  {
   "cell_type": "code",
   "execution_count": 32,
   "id": "d6cf9e99",
   "metadata": {},
   "outputs": [
    {
     "ename": "ModuleNotFoundError",
     "evalue": "No module named 'sklearn'",
     "output_type": "error",
     "traceback": [
      "\u001b[1;31m---------------------------------------------------------------------------\u001b[0m",
      "\u001b[1;31mModuleNotFoundError\u001b[0m                       Traceback (most recent call last)",
      "Cell \u001b[1;32mIn[32], line 1\u001b[0m\n\u001b[1;32m----> 1\u001b[0m \u001b[38;5;28;01mimport\u001b[39;00m\u001b[38;5;250m \u001b[39m\u001b[38;5;21;01msklearn\u001b[39;00m\n\u001b[0;32m      2\u001b[0m \u001b[38;5;28mprint\u001b[39m(sklearn\u001b[38;5;241m.\u001b[39m__version__)\n",
      "\u001b[1;31mModuleNotFoundError\u001b[0m: No module named 'sklearn'"
     ]
    }
   ],
   "source": [
    "import sklearn\n",
    "print(sklearn.__version__)\n"
   ]
  }
 ],
 "metadata": {
  "kernelspec": {
   "display_name": "venv",
   "language": "python",
   "name": "python3"
  },
  "language_info": {
   "codemirror_mode": {
    "name": "ipython",
    "version": 3
   },
   "file_extension": ".py",
   "mimetype": "text/x-python",
   "name": "python",
   "nbconvert_exporter": "python",
   "pygments_lexer": "ipython3",
   "version": "3.10.0"
  }
 },
 "nbformat": 4,
 "nbformat_minor": 5
}
